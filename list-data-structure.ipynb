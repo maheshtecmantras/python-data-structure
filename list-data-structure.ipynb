{
 "cells": [
  {
   "cell_type": "markdown",
   "metadata": {},
   "source": [
    "### task detail using append"
   ]
  },
  {
   "cell_type": "code",
   "execution_count": 2,
   "metadata": {},
   "outputs": [
    {
     "name": "stdout",
     "output_type": "stream",
     "text": [
      "Worked upon ecommerce\n",
      "worked upon puravida\n",
      "worked upon tecmantras\n"
     ]
    }
   ],
   "source": [
    "task_data = []\n",
    "\n",
    "while True:\n",
    "    task = input(\"enter task status (type done for close)\")\n",
    "    if task.lower() == 'done':\n",
    "        break\n",
    "    task_data.append(task)    \n",
    "\n",
    "# show all task\n",
    "for data in task_data:\n",
    "    print(data)    \n"
   ]
  },
  {
   "cell_type": "markdown",
   "metadata": {},
   "source": [
    "### append entire object as a single item"
   ]
  },
  {
   "cell_type": "code",
   "execution_count": 54,
   "metadata": {},
   "outputs": [
    {
     "name": "stdout",
     "output_type": "stream",
     "text": [
      "[[1, 2], (4, 5), {24, 22}, {1: 'new', 2: 'best'}]\n"
     ]
    }
   ],
   "source": [
    "data = []\n",
    "\n",
    "data.append([1,2])\n",
    "data.append((4,5))\n",
    "data.append({22,24})\n",
    "data.append({1: \"new\", 2: \"best\"})\n",
    "\n",
    "print(data)"
   ]
  },
  {
   "cell_type": "code",
   "execution_count": 55,
   "metadata": {},
   "outputs": [
    {
     "name": "stdout",
     "output_type": "stream",
     "text": [
      "[1, 2, 3, [4, 5, 6]]\n"
     ]
    }
   ],
   "source": [
    "list1 = [1,2,3]\n",
    "list2 = [4,5,6]\n",
    "\n",
    "list1.append(list2)\n",
    "\n",
    "print(list1)"
   ]
  },
  {
   "cell_type": "markdown",
   "metadata": {},
   "source": [
    "### Student Grade using append"
   ]
  },
  {
   "cell_type": "code",
   "execution_count": 3,
   "metadata": {},
   "outputs": [
    {
     "name": "stdout",
     "output_type": "stream",
     "text": [
      "Average grade 5.67\n"
     ]
    }
   ],
   "source": [
    "grades = []\n",
    "\n",
    "while True:\n",
    "    grade = input(\"enter grade number (type done for close)\")\n",
    "    if grade.lower() == 'done':\n",
    "        break\n",
    "\n",
    "    if grade.isdigit():\n",
    "        grades.append(int(grade))\n",
    "\n",
    "## Display grade\n",
    "if grades:\n",
    "    average = round(sum(grades) / len(grades), 2)\n",
    "    print(f\"Average grade\", average)            "
   ]
  },
  {
   "cell_type": "markdown",
   "metadata": {},
   "source": [
    "### Undo Last Action using pop"
   ]
  },
  {
   "cell_type": "code",
   "execution_count": 19,
   "metadata": {},
   "outputs": [
    {
     "name": "stdout",
     "output_type": "stream",
     "text": [
      "mahesh\n",
      "malay\n",
      "jigar\n"
     ]
    }
   ],
   "source": [
    "actions = []\n",
    "\n",
    "while True:\n",
    "    user_input = input(\"enter action name and if you type undo then remove last action (type done for close)\")\n",
    "\n",
    "    if user_input.lower() == 'done':\n",
    "        break\n",
    "    elif user_input.lower() == 'undo':\n",
    "        if actions:\n",
    "            actions.pop()\n",
    "    else:\n",
    "        actions.append(user_input)\n",
    "\n",
    "\n",
    "## display all actions\n",
    "for data in actions:\n",
    "    print(data)"
   ]
  },
  {
   "cell_type": "markdown",
   "metadata": {},
   "source": [
    "### Show Latest Email"
   ]
  },
  {
   "cell_type": "code",
   "execution_count": 21,
   "metadata": {},
   "outputs": [
    {
     "name": "stdout",
     "output_type": "stream",
     "text": [
      "Latest mail\n",
      "Welcome to our newsletter!\n"
     ]
    }
   ],
   "source": [
    "mail = [\n",
    "    \"Welcome to our newsletter!\",\n",
    "    \"Your OTP is 4895\",\n",
    "    \"Your account is blocked\",\n",
    "]\n",
    "\n",
    "print(\"Latest mail\")\n",
    "print(mail[0])"
   ]
  },
  {
   "cell_type": "markdown",
   "metadata": {},
   "source": [
    "### Last Login msg"
   ]
  },
  {
   "cell_type": "code",
   "execution_count": 9,
   "metadata": {},
   "outputs": [
    {
     "name": "stdout",
     "output_type": "stream",
     "text": [
      "login at 5pm\n"
     ]
    }
   ],
   "source": [
    "data = [\n",
    "    \"login at 1pm\",\n",
    "    \"login at 2pm\",\n",
    "    \"login at 5pm\"\n",
    "]\n",
    "\n",
    "\n",
    "print(data[-1])"
   ]
  },
  {
   "cell_type": "markdown",
   "metadata": {},
   "source": [
    "### show 2nd and 3rd headlines"
   ]
  },
  {
   "cell_type": "code",
   "execution_count": 16,
   "metadata": {},
   "outputs": [
    {
     "name": "stdout",
     "output_type": "stream",
     "text": [
      "Tech Giants Release New AI Tools\n"
     ]
    }
   ],
   "source": [
    "headlines = [\n",
    "    \"Breaking: Market Hits All-Time High\",\n",
    "    \"Tech Giants Release New AI Tools\",\n",
    "    \"Sports Update: Local Team Wins\",\n",
    "    \"Weather Alert: Storm Incoming\",\n",
    "    \"Finance Tips for 2025\"\n",
    "]\n",
    "\n",
    "# show 2nd and 3rd headlines\n",
    "show_headline = headlines[1:2]\n",
    "\n",
    "for data in show_headline:\n",
    "    print(data)"
   ]
  },
  {
   "cell_type": "markdown",
   "metadata": {},
   "source": [
    "### Skip first 2 orders"
   ]
  },
  {
   "cell_type": "code",
   "execution_count": 19,
   "metadata": {},
   "outputs": [
    {
     "name": "stdout",
     "output_type": "stream",
     "text": [
      "3 - sandwich\n",
      "4 - burger\n"
     ]
    }
   ],
   "source": [
    "orders = [\n",
    "    \"1 - pizza\",\n",
    "    \"2 - dabeli\",\n",
    "    \"3 - sandwich\",\n",
    "    \"4 - burger\"\n",
    "]\n",
    "\n",
    "remaining_orders = orders[2:]\n",
    "\n",
    "for order in remaining_orders:\n",
    "    print(order)\n"
   ]
  },
  {
   "cell_type": "markdown",
   "metadata": {},
   "source": [
    "### Show top 3 orders"
   ]
  },
  {
   "cell_type": "code",
   "execution_count": 21,
   "metadata": {},
   "outputs": [
    {
     "name": "stdout",
     "output_type": "stream",
     "text": [
      "1 - pizza\n",
      "2 - dabeli\n",
      "3 - sandwich\n"
     ]
    }
   ],
   "source": [
    "orders = [\n",
    "    \"1 - pizza\",\n",
    "    \"2 - dabeli\",\n",
    "    \"3 - sandwich\",\n",
    "    \"4 - burger\"\n",
    "]\n",
    "\n",
    "remaining_orders = orders[:3]\n",
    "\n",
    "for order in remaining_orders:\n",
    "    print(order)"
   ]
  },
  {
   "cell_type": "markdown",
   "metadata": {},
   "source": [
    "### Show every second student"
   ]
  },
  {
   "cell_type": "code",
   "execution_count": 25,
   "metadata": {},
   "outputs": [
    {
     "name": "stdout",
     "output_type": "stream",
     "text": [
      "Dipika\n",
      "divya\n",
      "mahesh\n"
     ]
    }
   ],
   "source": [
    "students = [\n",
    "    \"mahesh\",\n",
    "    \"jigar\",\n",
    "    \"divya\",\n",
    "    \"Malay\",\n",
    "    \"Dipika\"\n",
    "]\n",
    "\n",
    "every_second_student = students[::-2]\n",
    "\n",
    "for student in every_second_student:\n",
    "    print(student)"
   ]
  },
  {
   "cell_type": "markdown",
   "metadata": {},
   "source": [
    "### Backup Product List Before Updating Inventory"
   ]
  },
  {
   "cell_type": "code",
   "execution_count": 45,
   "metadata": {},
   "outputs": [
    {
     "name": "stdout",
     "output_type": "stream",
     "text": [
      "['ac']\n",
      "['tv', 'ac', 'washing machine']\n"
     ]
    }
   ],
   "source": [
    "product_stock = [\"tv\", \"ac\", \"washing machine\"]\n",
    "\n",
    "backup_stock = product_stock[:]\n",
    "\n",
    "product_stock.remove(\"tv\")\n",
    "del product_stock[1]\n",
    "\n",
    "print(product_stock)\n",
    "print(backup_stock)"
   ]
  },
  {
   "cell_type": "markdown",
   "metadata": {},
   "source": [
    "### add product cart item using insert"
   ]
  },
  {
   "cell_type": "code",
   "execution_count": 14,
   "metadata": {},
   "outputs": [
    {
     "data": {
      "text/plain": [
       "['mobile', 'laptop', ['machine', 'new'], 'tv']"
      ]
     },
     "execution_count": 14,
     "metadata": {},
     "output_type": "execute_result"
    }
   ],
   "source": [
    "cart_items = [\"mobile\", \"laptop\", \"tv\"]\n",
    "\n",
    "cart_items.insert(2, [\"machine\", \"new\"])\n",
    "\n",
    "cart_items"
   ]
  },
  {
   "cell_type": "code",
   "execution_count": 70,
   "metadata": {},
   "outputs": [
    {
     "name": "stdout",
     "output_type": "stream",
     "text": [
      "[[1, 2], {1: 'best', 2: 'new'}, (3, 4), {35, 44}]\n"
     ]
    }
   ],
   "source": [
    "data = []\n",
    "\n",
    "data.insert(4, [1,2])\n",
    "data.insert(3, (3,4))\n",
    "data.insert(2, {44,35})\n",
    "data.insert(1, {1:\"best\", 2:\"new\"})\n",
    "\n",
    "print(data)"
   ]
  },
  {
   "cell_type": "markdown",
   "metadata": {},
   "source": [
    "### Show 2 star value index value"
   ]
  },
  {
   "cell_type": "code",
   "execution_count": 77,
   "metadata": {},
   "outputs": [
    {
     "data": {
      "text/plain": [
       "0"
      ]
     },
     "execution_count": 77,
     "metadata": {},
     "output_type": "execute_result"
    }
   ],
   "source": [
    "ratings = [1,2,3,4,5,2]\n",
    "\n",
    "ratings.index(1)"
   ]
  },
  {
   "cell_type": "markdown",
   "metadata": {},
   "source": [
    "### Combining Student Lists"
   ]
  },
  {
   "cell_type": "code",
   "execution_count": 11,
   "metadata": {},
   "outputs": [
    {
     "data": {
      "text/plain": [
       "['mahesh', 'jigar', 'divya', 'mahesh', 'test']"
      ]
     },
     "execution_count": 11,
     "metadata": {},
     "output_type": "execute_result"
    }
   ],
   "source": [
    "student1 = [\"mahesh\", \"jigar\"]\n",
    "student2 = [\"divya\", \"mahesh\",(\"test\")]\n",
    "\n",
    "student1 + student2"
   ]
  },
  {
   "cell_type": "markdown",
   "metadata": {},
   "source": [
    "### Merging New Orders into Existing Orders"
   ]
  },
  {
   "cell_type": "code",
   "execution_count": 10,
   "metadata": {},
   "outputs": [
    {
     "data": {
      "text/plain": [
       "[12, 15, 16, 10, 8, 15]"
      ]
     },
     "execution_count": 10,
     "metadata": {},
     "output_type": "execute_result"
    }
   ],
   "source": [
    "new_orders = [12, 15, 16]\n",
    "old_orders = [10, 8, 15]\n",
    "\n",
    "new_orders.extend(old_orders)\n",
    "new_orders"
   ]
  },
  {
   "cell_type": "markdown",
   "metadata": {},
   "source": [
    "###  Check if Student ID is in Attendance List"
   ]
  },
  {
   "cell_type": "code",
   "execution_count": 84,
   "metadata": {},
   "outputs": [
    {
     "name": "stdout",
     "output_type": "stream",
     "text": [
      "101 is exist\n"
     ]
    }
   ],
   "source": [
    "attendance = [101, 104, 105, 110]\n",
    "\n",
    "if 101 in attendance:\n",
    "    print(\"101 is exist\")\n",
    "else:\n",
    "    print(\"101 not found\")    "
   ]
  },
  {
   "cell_type": "markdown",
   "metadata": {},
   "source": [
    "### Length check"
   ]
  },
  {
   "cell_type": "code",
   "execution_count": 85,
   "metadata": {},
   "outputs": [
    {
     "data": {
      "text/plain": [
       "4"
      ]
     },
     "execution_count": 85,
     "metadata": {},
     "output_type": "execute_result"
    }
   ],
   "source": [
    "student = [2,4,5,7]\n",
    "\n",
    "len(student)"
   ]
  },
  {
   "cell_type": "markdown",
   "metadata": {},
   "source": [
    "### Returning Multiple Values from a Function"
   ]
  },
  {
   "cell_type": "code",
   "execution_count": 7,
   "metadata": {},
   "outputs": [
    {
     "name": "stdout",
     "output_type": "stream",
     "text": [
      "name is amit, Age is 21, Course is BCA\n"
     ]
    }
   ],
   "source": [
    "def get_student():\n",
    "    return [\"amit\", 21, \"BCA\"]\n",
    "\n",
    "name, age, course = get_student()\n",
    "\n",
    "print(f\"name is {name}, Age is {age}, Course is {course}\")"
   ]
  },
  {
   "cell_type": "markdown",
   "metadata": {},
   "source": [
    "### Parsing CSV Data"
   ]
  },
  {
   "cell_type": "code",
   "execution_count": null,
   "metadata": {},
   "outputs": [
    {
     "ename": "SyntaxError",
     "evalue": "invalid syntax (1836385697.py, line 3)",
     "output_type": "error",
     "traceback": [
      "  \u001b[36mCell\u001b[39m\u001b[36m \u001b[39m\u001b[32mIn[9]\u001b[39m\u001b[32m, line 3\u001b[39m\n\u001b[31m    \u001b[39m\u001b[31mfirst_name, last_name, **rest = csv_row\u001b[39m\n                           ^\n\u001b[31mSyntaxError\u001b[39m\u001b[31m:\u001b[39m invalid syntax\n"
     ]
    }
   ],
   "source": [
    "csv_row = [\"John\", \"Doe\", 25, \"New York\", \"USA\"]\n",
    "\n",
    "first_name, last_name, *rest = csv_row\n",
    "\n",
    "print(first_name)\n",
    "print(last_name)\n",
    "print(rest)"
   ]
  }
 ],
 "metadata": {
  "kernelspec": {
   "display_name": "Python 3 (ipykernel)",
   "language": "python",
   "name": "python3"
  },
  "language_info": {
   "codemirror_mode": {
    "name": "ipython",
    "version": 3
   },
   "file_extension": ".py",
   "mimetype": "text/x-python",
   "name": "python",
   "nbconvert_exporter": "python",
   "pygments_lexer": "ipython3",
   "version": "3.12.9"
  }
 },
 "nbformat": 4,
 "nbformat_minor": 2
}
