{
 "cells": [
  {
   "cell_type": "markdown",
   "metadata": {},
   "source": [
    "### Immutable types include ints, floats, strings, tuples."
   ]
  },
  {
   "cell_type": "code",
   "execution_count": 5,
   "metadata": {},
   "outputs": [
    {
     "ename": "TypeError",
     "evalue": "unhashable type: 'list'",
     "output_type": "error",
     "traceback": [
      "\u001b[31m---------------------------------------------------------------------------\u001b[39m",
      "\u001b[31mTypeError\u001b[39m                                 Traceback (most recent call last)",
      "\u001b[36mCell\u001b[39m\u001b[36m \u001b[39m\u001b[32mIn[5]\u001b[39m\u001b[32m, line 1\u001b[39m\n\u001b[32m----> \u001b[39m\u001b[32m1\u001b[39m invalid_dict = {[\u001b[32m1\u001b[39m,\u001b[32m2\u001b[39m,\u001b[32m3\u001b[39m]: \u001b[33m\"\u001b[39m\u001b[33m123\u001b[39m\u001b[33m\"\u001b[39m}\n",
      "\u001b[31mTypeError\u001b[39m: unhashable type: 'list'"
     ]
    }
   ],
   "source": [
    "invalid_dict = {[1,2,3]: \"123\"}"
   ]
  },
  {
   "cell_type": "code",
   "execution_count": 6,
   "metadata": {},
   "outputs": [
    {
     "ename": "TypeError",
     "evalue": "unhashable type: 'dict'",
     "output_type": "error",
     "traceback": [
      "\u001b[31m---------------------------------------------------------------------------\u001b[39m",
      "\u001b[31mTypeError\u001b[39m                                 Traceback (most recent call last)",
      "\u001b[36mCell\u001b[39m\u001b[36m \u001b[39m\u001b[32mIn[6]\u001b[39m\u001b[32m, line 1\u001b[39m\n\u001b[32m----> \u001b[39m\u001b[32m1\u001b[39m invalid_dict = {{\u001b[32m1\u001b[39m: \u001b[33m\"\u001b[39m\u001b[33mnew\u001b[39m\u001b[33m\"\u001b[39m, \u001b[32m2\u001b[39m: \u001b[33m\"\u001b[39m\u001b[33mnest\u001b[39m\u001b[33m\"\u001b[39m}: \u001b[33m\"\u001b[39m\u001b[33m123\u001b[39m\u001b[33m\"\u001b[39m}\n",
      "\u001b[31mTypeError\u001b[39m: unhashable type: 'dict'"
     ]
    }
   ],
   "source": [
    "invalid_dict = {{1: \"new\", 2: \"nest\"}: \"123\"}"
   ]
  },
  {
   "cell_type": "code",
   "execution_count": 7,
   "metadata": {},
   "outputs": [
    {
     "ename": "TypeError",
     "evalue": "unhashable type: 'set'",
     "output_type": "error",
     "traceback": [
      "\u001b[31m---------------------------------------------------------------------------\u001b[39m",
      "\u001b[31mTypeError\u001b[39m                                 Traceback (most recent call last)",
      "\u001b[36mCell\u001b[39m\u001b[36m \u001b[39m\u001b[32mIn[7]\u001b[39m\u001b[32m, line 1\u001b[39m\n\u001b[32m----> \u001b[39m\u001b[32m1\u001b[39m invalid_dict = {{\u001b[33m\"\u001b[39m\u001b[33mnew\u001b[39m\u001b[33m\"\u001b[39m,\u001b[33m\"\u001b[39m\u001b[33mnest\u001b[39m\u001b[33m\"\u001b[39m}: \u001b[33m\"\u001b[39m\u001b[33m123\u001b[39m\u001b[33m\"\u001b[39m}\n",
      "\u001b[31mTypeError\u001b[39m: unhashable type: 'set'"
     ]
    }
   ],
   "source": [
    "invalid_dict = {{\"new\",\"nest\"}: \"123\"}"
   ]
  },
  {
   "cell_type": "code",
   "execution_count": 9,
   "metadata": {},
   "outputs": [
    {
     "data": {
      "text/plain": [
       "{(1, 2, 3): [1, 2, 3]}"
      ]
     },
     "execution_count": 9,
     "metadata": {},
     "output_type": "execute_result"
    }
   ],
   "source": [
    "valid_dict = {(1,2,3):[1,2,3]}\n",
    "valid_dict"
   ]
  },
  {
   "cell_type": "code",
   "execution_count": 10,
   "metadata": {},
   "outputs": [
    {
     "data": {
      "text/plain": [
       "{1: [1, 2, 3]}"
      ]
     },
     "execution_count": 10,
     "metadata": {},
     "output_type": "execute_result"
    }
   ],
   "source": [
    "valid_dict = {1:[1,2,3]}\n",
    "valid_dict"
   ]
  },
  {
   "cell_type": "code",
   "execution_count": 11,
   "metadata": {},
   "outputs": [
    {
     "data": {
      "text/plain": [
       "{1.34: [1, 2, 3]}"
      ]
     },
     "execution_count": 11,
     "metadata": {},
     "output_type": "execute_result"
    }
   ],
   "source": [
    "valid_dict = {1.34:[1,2,3]}\n",
    "valid_dict"
   ]
  },
  {
   "cell_type": "code",
   "execution_count": 12,
   "metadata": {},
   "outputs": [
    {
     "data": {
      "text/plain": [
       "{'new': [1, 2, 3]}"
      ]
     },
     "execution_count": 12,
     "metadata": {},
     "output_type": "execute_result"
    }
   ],
   "source": [
    "valid_dict = {\"new\":[1,2,3]}\n",
    "valid_dict"
   ]
  },
  {
   "cell_type": "markdown",
   "metadata": {},
   "source": [
    "### User input to Text Number Conversion"
   ]
  },
  {
   "cell_type": "code",
   "execution_count": 27,
   "metadata": {},
   "outputs": [
    {
     "name": "stdout",
     "output_type": "stream",
     "text": [
      "number value is 2\n"
     ]
    }
   ],
   "source": [
    "word_to_number = {\"one\": 1, \"two\": 2, \"three\": 3, \"four\": 4, \"five\": 5}\n",
    "\n",
    "user_input = \"Transfer two files to John.\"\n",
    "\n",
    "found_word = None\n",
    "for word in user_input.lower().split():\n",
    "    if word in word_to_number:\n",
    "        found_word = word\n",
    "        break\n",
    "\n",
    "if found_word:\n",
    "    number = word_to_number[found_word]\n",
    "    print(f\"number value is {number}\")\n",
    "else:\n",
    "    print(\"not found\")            "
   ]
  },
  {
   "cell_type": "code",
   "execution_count": 31,
   "metadata": {},
   "outputs": [
    {
     "data": {
      "text/plain": [
       "1"
      ]
     },
     "execution_count": 31,
     "metadata": {},
     "output_type": "execute_result"
    }
   ],
   "source": [
    "word_to_number = {\"one\": 1, \"two\": 2, \"three\": 3, \"four\": 4, \"five\": 5}\n",
    "word_to_number[\"one\"]"
   ]
  },
  {
   "cell_type": "markdown",
   "metadata": {},
   "source": [
    "### Dropdown Menu for a Web Form for multiple plan gey key"
   ]
  },
  {
   "cell_type": "code",
   "execution_count": 57,
   "metadata": {},
   "outputs": [
    {
     "name": "stdout",
     "output_type": "stream",
     "text": [
      "available plan is Basic\n",
      "available plan is Pro\n",
      "available plan is Enterprise\n"
     ]
    }
   ],
   "source": [
    "plans = {\n",
    "    \"basic\": 10,\n",
    "    \"pro\": 20,\n",
    "    \"enterprise\": 50\n",
    "}\n",
    "\n",
    "available_plans = plans.keys()\n",
    "for plan in available_plans:\n",
    "    print(f\"available plan is {plan.capitalize()}\")"
   ]
  },
  {
   "cell_type": "markdown",
   "metadata": {},
   "source": [
    "### Dropdown Menu for a Web Form for multiple plan gey value"
   ]
  },
  {
   "cell_type": "code",
   "execution_count": 60,
   "metadata": {},
   "outputs": [
    {
     "name": "stdout",
     "output_type": "stream",
     "text": [
      "available plan value is 10\n",
      "available plan value is 20\n",
      "available plan value is 50\n"
     ]
    }
   ],
   "source": [
    "plans = {\n",
    "    \"basic\": 10,\n",
    "    \"pro\": 20,\n",
    "    \"enterprise\": 50\n",
    "}\n",
    "\n",
    "available_plans = plans.values()\n",
    "for plan in available_plans:\n",
    "    print(f\"available plan value is {plan}\")"
   ]
  },
  {
   "cell_type": "markdown",
   "metadata": {},
   "source": [
    "### Checking if a user selected a valid plan"
   ]
  },
  {
   "cell_type": "code",
   "execution_count": 61,
   "metadata": {},
   "outputs": [
    {
     "name": "stdout",
     "output_type": "stream",
     "text": [
      "Valid plan selected\n"
     ]
    }
   ],
   "source": [
    "plans = {\n",
    "    \"basic\": 10,\n",
    "    \"pro\": 20,\n",
    "    \"enterprise\": 50\n",
    "}\n",
    "\n",
    "user_input = \"pro\"\n",
    "\n",
    "if user_input in plans:\n",
    "    print(\"Valid plan selected\")\n",
    "else:\n",
    "    print(\"Invalid plan\")    "
   ]
  },
  {
   "cell_type": "code",
   "execution_count": 62,
   "metadata": {},
   "outputs": [
    {
     "name": "stdout",
     "output_type": "stream",
     "text": [
      "Invalid plan\n"
     ]
    }
   ],
   "source": [
    "plans = {\n",
    "    \"basic\": 10,\n",
    "    \"pro\": 20,\n",
    "    \"enterprise\": 50\n",
    "}\n",
    "\n",
    "user_input = 10\n",
    "\n",
    "if user_input in plans:\n",
    "    print(\"Valid plan selected\")\n",
    "else:\n",
    "    print(\"Invalid plan\")    "
   ]
  },
  {
   "cell_type": "code",
   "execution_count": 63,
   "metadata": {},
   "outputs": [
    {
     "ename": "KeyError",
     "evalue": "'four'",
     "output_type": "error",
     "traceback": [
      "\u001b[31m---------------------------------------------------------------------------\u001b[39m",
      "\u001b[31mKeyError\u001b[39m                                  Traceback (most recent call last)",
      "\u001b[36mCell\u001b[39m\u001b[36m \u001b[39m\u001b[32mIn[63]\u001b[39m\u001b[32m, line 7\u001b[39m\n\u001b[32m      1\u001b[39m plans = {\n\u001b[32m      2\u001b[39m     \u001b[33m\"\u001b[39m\u001b[33mbasic\u001b[39m\u001b[33m\"\u001b[39m: \u001b[32m10\u001b[39m,\n\u001b[32m      3\u001b[39m     \u001b[33m\"\u001b[39m\u001b[33mpro\u001b[39m\u001b[33m\"\u001b[39m: \u001b[32m20\u001b[39m,\n\u001b[32m      4\u001b[39m     \u001b[33m\"\u001b[39m\u001b[33menterprise\u001b[39m\u001b[33m\"\u001b[39m: \u001b[32m50\u001b[39m\n\u001b[32m      5\u001b[39m }\n\u001b[32m----> \u001b[39m\u001b[32m7\u001b[39m \u001b[43mplans\u001b[49m\u001b[43m[\u001b[49m\u001b[33;43m\"\u001b[39;49m\u001b[33;43mfour\u001b[39;49m\u001b[33;43m\"\u001b[39;49m\u001b[43m]\u001b[49m\n",
      "\u001b[31mKeyError\u001b[39m: 'four'"
     ]
    }
   ],
   "source": [
    "plans = {\n",
    "    \"basic\": 10,\n",
    "    \"pro\": 20,\n",
    "    \"enterprise\": 50\n",
    "}\n",
    "\n",
    "plans[\"four\"]"
   ]
  },
  {
   "cell_type": "markdown",
   "metadata": {},
   "source": [
    "### User Preferences check notification is on or not"
   ]
  },
  {
   "cell_type": "code",
   "execution_count": 64,
   "metadata": {},
   "outputs": [
    {
     "name": "stdout",
     "output_type": "stream",
     "text": [
      "notification off\n"
     ]
    }
   ],
   "source": [
    "user_preferences = {\n",
    "    \"email\": True,\n",
    "    \"sms\": False\n",
    "}\n",
    "\n",
    "push_notification = user_preferences.get(\"push\")\n",
    "\n",
    "if push_notification:\n",
    "    print(\"notification on\")\n",
    "else:\n",
    "    print(\"notification off\")    "
   ]
  },
  {
   "cell_type": "code",
   "execution_count": 65,
   "metadata": {},
   "outputs": [
    {
     "name": "stdout",
     "output_type": "stream",
     "text": [
      "notification on\n"
     ]
    }
   ],
   "source": [
    "user_preferences = {\n",
    "    \"email\": True,\n",
    "    \"sms\": False\n",
    "}\n",
    "\n",
    "push_notification = user_preferences.get(\"email\")\n",
    "\n",
    "if push_notification:\n",
    "    print(\"notification on\")\n",
    "else:\n",
    "    print(\"notification off\")    "
   ]
  },
  {
   "cell_type": "markdown",
   "metadata": {},
   "source": [
    "### Student Grades Lookup"
   ]
  },
  {
   "cell_type": "code",
   "execution_count": 71,
   "metadata": {},
   "outputs": [
    {
     "name": "stdout",
     "output_type": "stream",
     "text": [
      "grade is 85\n"
     ]
    }
   ],
   "source": [
    "student_grades = {\n",
    "    \"Alice\": 90,\n",
    "    \"Bob\": 85\n",
    "}\n",
    "\n",
    "name = input(\"Enter student name:\").strip()\n",
    "\n",
    "grade = student_grades.get(name, 50)\n",
    "\n",
    "print(f\"grade is {grade}\")"
   ]
  },
  {
   "cell_type": "markdown",
   "metadata": {},
   "source": [
    "### default value"
   ]
  },
  {
   "cell_type": "code",
   "execution_count": 74,
   "metadata": {},
   "outputs": [
    {
     "data": {
      "text/plain": [
       "{'one': 1, 'two': 2, 'three': 3}"
      ]
     },
     "execution_count": 74,
     "metadata": {},
     "output_type": "execute_result"
    }
   ],
   "source": [
    "filled_dict = {\"one\": 1, \"two\": 2, \"three\": 3}\n",
    "\n",
    "filled_dict.setdefault(\"three\", 5)\n",
    "filled_dict"
   ]
  },
  {
   "cell_type": "code",
   "execution_count": 75,
   "metadata": {},
   "outputs": [
    {
     "data": {
      "text/plain": [
       "{'one': 1, 'two': 2, 'three': 3, 'five': 5}"
      ]
     },
     "execution_count": 75,
     "metadata": {},
     "output_type": "execute_result"
    }
   ],
   "source": [
    "filled_dict = {\"one\": 1, \"two\": 2, \"three\": 3}\n",
    "\n",
    "filled_dict.setdefault(\"five\", 5)\n",
    "filled_dict"
   ]
  },
  {
   "cell_type": "markdown",
   "metadata": {},
   "source": [
    "### Updating User Profile"
   ]
  },
  {
   "cell_type": "code",
   "execution_count": 79,
   "metadata": {},
   "outputs": [
    {
     "data": {
      "text/plain": [
       "{'name': 'Alice',\n",
       " 'age': 25,\n",
       " 'location': 'Los Angeles',\n",
       " 'phone': '123-456-7890'}"
      ]
     },
     "execution_count": 79,
     "metadata": {},
     "output_type": "execute_result"
    }
   ],
   "source": [
    "user_profile = {\n",
    "    \"name\": \"Alice\",\n",
    "    \"age\": 25,\n",
    "    \"location\": \"New York\"\n",
    "}\n",
    "\n",
    "user_profile.update({\n",
    "    \"phone\": \"123-456-7890\",\n",
    "    \"location\": \"Los Angeles\"\n",
    "})\n",
    "user_profile"
   ]
  },
  {
   "cell_type": "code",
   "execution_count": 83,
   "metadata": {},
   "outputs": [
    {
     "data": {
      "text/plain": [
       "{'name': 'Alice', 'age': 25, 'location': 'test'}"
      ]
     },
     "execution_count": 83,
     "metadata": {},
     "output_type": "execute_result"
    }
   ],
   "source": [
    "user_profile = {\n",
    "    \"name\": \"Alice\",\n",
    "    \"age\": 25,\n",
    "    \"location\": \"New York\"\n",
    "}\n",
    "\n",
    "user_profile[\"location\"] = \"test\"\n",
    "user_profile"
   ]
  },
  {
   "cell_type": "markdown",
   "metadata": {},
   "source": [
    "### Deleting Form Field Data After Processing"
   ]
  },
  {
   "cell_type": "code",
   "execution_count": 87,
   "metadata": {},
   "outputs": [],
   "source": [
    "form_data = {\n",
    "    \"name\": \"John\",\n",
    "    \"email\": \"john@example.com\",\n",
    "    \"csrf_token\": \"abc123\"\n",
    "}\n",
    "\n",
    "del form_data[\"name\"]"
   ]
  },
  {
   "cell_type": "markdown",
   "metadata": {},
   "source": [
    "### Combining Multiple Sources of Data"
   ]
  },
  {
   "cell_type": "code",
   "execution_count": 93,
   "metadata": {},
   "outputs": [
    {
     "data": {
      "text/plain": [
       "{'id': 101, 'name': 'mahesh@example.com', 'active': True}"
      ]
     },
     "execution_count": 93,
     "metadata": {},
     "output_type": "execute_result"
    }
   ],
   "source": [
    "db_data = {\"id\": 101, \"name\": \"Mahesh\"}\n",
    "api_data = {\"name\": \"mahesh@example.com\", \"active\": True}\n",
    "\n",
    "\n",
    "user_profile = {**db_data, **api_data}\n",
    "user_profile"
   ]
  },
  {
   "cell_type": "code",
   "execution_count": null,
   "metadata": {},
   "outputs": [],
   "source": []
  }
 ],
 "metadata": {
  "kernelspec": {
   "display_name": "Python 3 (ipykernel)",
   "language": "python",
   "name": "python3"
  },
  "language_info": {
   "codemirror_mode": {
    "name": "ipython",
    "version": 3
   },
   "file_extension": ".py",
   "mimetype": "text/x-python",
   "name": "python",
   "nbconvert_exporter": "python",
   "pygments_lexer": "ipython3",
   "version": "3.12.9"
  }
 },
 "nbformat": 4,
 "nbformat_minor": 2
}
