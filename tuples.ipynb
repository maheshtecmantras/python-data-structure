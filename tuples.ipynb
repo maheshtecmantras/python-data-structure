{
 "cells": [
  {
   "cell_type": "markdown",
   "metadata": {},
   "source": [
    "### Student Record (Roll No, Name, Age)"
   ]
  },
  {
   "cell_type": "code",
   "execution_count": 3,
   "metadata": {},
   "outputs": [
    {
     "name": "stdout",
     "output_type": "stream",
     "text": [
      "Roll no is:  101\n",
      "Name is:  mahesh\n"
     ]
    }
   ],
   "source": [
    "student = (101, \"mahesh\", 25)\n",
    "\n",
    "print(\"Roll no is: \", student[0])\n",
    "print(\"Name is: \", student[1])"
   ]
  },
  {
   "cell_type": "code",
   "execution_count": 2,
   "metadata": {},
   "outputs": [
    {
     "ename": "TypeError",
     "evalue": "'tuple' object does not support item assignment",
     "output_type": "error",
     "traceback": [
      "\u001b[31m---------------------------------------------------------------------------\u001b[39m",
      "\u001b[31mTypeError\u001b[39m                                 Traceback (most recent call last)",
      "\u001b[36mCell\u001b[39m\u001b[36m \u001b[39m\u001b[32mIn[2]\u001b[39m\u001b[32m, line 2\u001b[39m\n\u001b[32m      1\u001b[39m student = (\u001b[32m101\u001b[39m, \u001b[33m\"\u001b[39m\u001b[33mmahesh\u001b[39m\u001b[33m\"\u001b[39m, \u001b[32m25\u001b[39m)\n\u001b[32m----> \u001b[39m\u001b[32m2\u001b[39m \u001b[43mstudent\u001b[49m\u001b[43m[\u001b[49m\u001b[32;43m1\u001b[39;49m\u001b[43m]\u001b[49m = \u001b[33m\"\u001b[39m\u001b[33mnew\u001b[39m\u001b[33m\"\u001b[39m\n",
      "\u001b[31mTypeError\u001b[39m: 'tuple' object does not support item assignment"
     ]
    }
   ],
   "source": [
    "student = (101, \"mahesh\", 25)\n",
    "student[1] = \"new\""
   ]
  },
  {
   "cell_type": "markdown",
   "metadata": {},
   "source": [
    "### Function Returning Multiple Values"
   ]
  },
  {
   "cell_type": "code",
   "execution_count": 23,
   "metadata": {},
   "outputs": [
    {
     "name": "stdout",
     "output_type": "stream",
     "text": [
      "status <class 'tuple'>\n"
     ]
    }
   ],
   "source": [
    "def get_user_status():\n",
    "    return (\"active\",)\n",
    "\n",
    "status = get_user_status()\n",
    "print(\"status\", type(status))    "
   ]
  },
  {
   "cell_type": "markdown",
   "metadata": {},
   "source": [
    "### contact tuple"
   ]
  },
  {
   "cell_type": "code",
   "execution_count": 14,
   "metadata": {},
   "outputs": [
    {
     "data": {
      "text/plain": [
       "(1, 4, 3, 5, 6, [5, 7])"
      ]
     },
     "execution_count": 14,
     "metadata": {},
     "output_type": "execute_result"
    }
   ],
   "source": [
    "    tuple1 = (1,4,3)\n",
    "    tuple2 = (5,6, [5,7])\n",
    "\n",
    "    tuple1 + tuple2"
   ]
  },
  {
   "cell_type": "markdown",
   "metadata": {},
   "source": [
    "### show 2nd and 3rd headlines"
   ]
  },
  {
   "cell_type": "code",
   "execution_count": 15,
   "metadata": {},
   "outputs": [
    {
     "name": "stdout",
     "output_type": "stream",
     "text": [
      "Tech Giants Release New AI Tools\n"
     ]
    }
   ],
   "source": [
    "headlines = (\n",
    "    \"Breaking: Market Hits All-Time High\",\n",
    "    \"Tech Giants Release New AI Tools\",\n",
    "    \"Sports Update: Local Team Wins\",\n",
    "    \"Weather Alert: Storm Incoming\",\n",
    "    \"Finance Tips for 2025\"\n",
    ")\n",
    "\n",
    "# show 2nd and 3rd headlines\n",
    "show_headline = headlines[1:2]\n",
    "\n",
    "for data in show_headline:\n",
    "    print(data)"
   ]
  },
  {
   "cell_type": "markdown",
   "metadata": {},
   "source": [
    "### Skip first 2 orders"
   ]
  },
  {
   "cell_type": "code",
   "execution_count": 16,
   "metadata": {},
   "outputs": [
    {
     "name": "stdout",
     "output_type": "stream",
     "text": [
      "3 - sandwich\n",
      "4 - burger\n"
     ]
    }
   ],
   "source": [
    "orders = (\n",
    "    \"1 - pizza\",\n",
    "    \"2 - dabeli\",\n",
    "    \"3 - sandwich\",\n",
    "    \"4 - burger\"\n",
    ")\n",
    "\n",
    "remaining_orders = orders[2:]\n",
    "\n",
    "for order in remaining_orders:\n",
    "    print(order)\n"
   ]
  },
  {
   "cell_type": "markdown",
   "metadata": {},
   "source": [
    "### Show top 3 orders"
   ]
  },
  {
   "cell_type": "code",
   "execution_count": 17,
   "metadata": {},
   "outputs": [
    {
     "name": "stdout",
     "output_type": "stream",
     "text": [
      "1 - pizza\n",
      "2 - dabeli\n",
      "3 - sandwich\n"
     ]
    }
   ],
   "source": [
    "orders = (\n",
    "    \"1 - pizza\",\n",
    "    \"2 - dabeli\",\n",
    "    \"3 - sandwich\",\n",
    "    \"4 - burger\"\n",
    ")\n",
    "\n",
    "remaining_orders = orders[:3]\n",
    "\n",
    "for order in remaining_orders:\n",
    "    print(order)"
   ]
  },
  {
   "cell_type": "markdown",
   "metadata": {},
   "source": [
    "### Show every second student"
   ]
  },
  {
   "cell_type": "code",
   "execution_count": 20,
   "metadata": {},
   "outputs": [
    {
     "name": "stdout",
     "output_type": "stream",
     "text": [
      "Dipika\n",
      "divya\n",
      "mahesh\n"
     ]
    }
   ],
   "source": [
    "students = (\n",
    "    \"mahesh\",\n",
    "    \"jigar\",\n",
    "    \"divya\",\n",
    "    \"Malay\",\n",
    "    \"Dipika\"\n",
    ")\n",
    "\n",
    "every_second_student = students[::-2]\n",
    "\n",
    "for student in every_second_student:\n",
    "    print(student)"
   ]
  },
  {
   "cell_type": "markdown",
   "metadata": {},
   "source": [
    "### Length check"
   ]
  },
  {
   "cell_type": "code",
   "execution_count": 21,
   "metadata": {},
   "outputs": [
    {
     "data": {
      "text/plain": [
       "4"
      ]
     },
     "execution_count": 21,
     "metadata": {},
     "output_type": "execute_result"
    }
   ],
   "source": [
    "student = (2,4,5,7)\n",
    "\n",
    "len(student)"
   ]
  },
  {
   "cell_type": "markdown",
   "metadata": {},
   "source": [
    "### Returning Multiple Values from a Function"
   ]
  },
  {
   "cell_type": "code",
   "execution_count": 24,
   "metadata": {},
   "outputs": [
    {
     "name": "stdout",
     "output_type": "stream",
     "text": [
      "name is amit, Age is 21, Course is BCA\n"
     ]
    }
   ],
   "source": [
    "def get_student():\n",
    "    return (\"amit\", 21, \"BCA\")\n",
    "\n",
    "name, age, course = get_student()\n",
    "\n",
    "print(f\"name is {name}, Age is {age}, Course is {course}\")"
   ]
  },
  {
   "cell_type": "markdown",
   "metadata": {},
   "source": [
    "### Iterating Over a List of Tuples"
   ]
  },
  {
   "cell_type": "code",
   "execution_count": 32,
   "metadata": {},
   "outputs": [
    {
     "name": "stdout",
     "output_type": "stream",
     "text": [
      "Mahesh and role Admin\n",
      "Jigar and role Editor\n",
      "Keyur and role Viewer\n"
     ]
    }
   ],
   "source": [
    "users = [(\"Mahesh\", \"Admin\"), (\"Jigar\", \"Editor\"), (\"Keyur\", \"Viewer\")]\n",
    "\n",
    "\n",
    "for name, role in users:\n",
    "    print(f\"{name} and role {role}\")"
   ]
  },
  {
   "cell_type": "markdown",
   "metadata": {},
   "source": [
    "### Parsing CSV Data"
   ]
  },
  {
   "cell_type": "code",
   "execution_count": 33,
   "metadata": {},
   "outputs": [
    {
     "name": "stdout",
     "output_type": "stream",
     "text": [
      "John\n",
      "Doe\n",
      "[25, 'New York', 'USA']\n"
     ]
    }
   ],
   "source": [
    "csv_row = (\"John\", \"Doe\", 25, \"New York\", \"USA\")\n",
    "\n",
    "first_name, last_name, *rest = csv_row\n",
    "\n",
    "print(first_name)\n",
    "print(last_name)\n",
    "print(rest)"
   ]
  },
  {
   "cell_type": "markdown",
   "metadata": {},
   "source": [
    "### Swapping player turns in a game"
   ]
  },
  {
   "cell_type": "code",
   "execution_count": 34,
   "metadata": {},
   "outputs": [
    {
     "name": "stdout",
     "output_type": "stream",
     "text": [
      "Now player1 is: Jigar\n"
     ]
    }
   ],
   "source": [
    "player1 = \"Mahesh\"\n",
    "player2 = \"Jigar\"\n",
    "\n",
    "player1, player2 = player2, player1\n",
    "print(\"Now player1 is:\", player1)"
   ]
  }
 ],
 "metadata": {
  "kernelspec": {
   "display_name": "Python 3 (ipykernel)",
   "language": "python",
   "name": "python3"
  },
  "language_info": {
   "codemirror_mode": {
    "name": "ipython",
    "version": 3
   },
   "file_extension": ".py",
   "mimetype": "text/x-python",
   "name": "python",
   "nbconvert_exporter": "python",
   "pygments_lexer": "ipython3",
   "version": "3.12.9"
  }
 },
 "nbformat": 4,
 "nbformat_minor": 2
}
